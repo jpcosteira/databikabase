{
 "cells": [
  {
   "cell_type": "code",
   "execution_count": 1,
   "id": "e7c9973f-a655-4c06-9dff-19e54e0866c1",
   "metadata": {},
   "outputs": [
    {
     "name": "stderr",
     "output_type": "stream",
     "text": [
      "/usr/local/lib/python3.11/site-packages/tqdm/auto.py:21: TqdmWarning: IProgress not found. Please update jupyter and ipywidgets. See https://ipywidgets.readthedocs.io/en/stable/user_install.html\n",
      "  from .autonotebook import tqdm as notebook_tqdm\n"
     ]
    }
   ],
   "source": [
    "import os\n",
    "import sqlite3\n",
    "import yaml\n",
    "import gradio as gr\n",
    "\n",
    "with open(\"config.yaml\", \"r\") as f:\n",
    "    config = yaml.safe_load(f)\n",
    "\n",
    "\n",
    "db_name = config['database']['name']\n",
    "table_name = config['database']['table']"
   ]
  },
  {
   "cell_type": "code",
   "execution_count": 2,
   "id": "fee330d7-2a4c-476c-adcd-9f3e7ca0fb23",
   "metadata": {},
   "outputs": [],
   "source": [
    "def map_field_to_sql(field):\n",
    "    ftype = field['type']\n",
    "    if ftype == \"number\":\n",
    "        return \"INTEGER\"\n",
    "    elif ftype == \"checkbox\":\n",
    "        return \"BOOLEAN\"\n",
    "    return \"TEXT\"\n",
    "\n",
    "def create_table():\n",
    "    fields = []\n",
    "    for tab in config['interface']['tabs']:\n",
    "        for field in tab['fields']:\n",
    "            name = field['name']\n",
    "            sql_type = map_field_to_sql(field)\n",
    "            fields.append(f\"{name} {sql_type}\")\n",
    "    with sqlite3.connect(db_name) as conn:\n",
    "        conn.execute(\n",
    "            f\"CREATE TABLE IF NOT EXISTS {table_name} (id TEXT PRIMARY KEY, {', '.join(fields)})\"\n",
    "        )\n",
    "        conn.commit()\n",
    "\n",
    "create_table()\n",
    "\n",
    "field_components = {}\n",
    "tabs_ui = []"
   ]
  },
  {
   "cell_type": "code",
   "execution_count": null,
   "id": "cdcaa93d-ff83-45ee-ba2c-36a5ac486aae",
   "metadata": {},
   "outputs": [],
   "source": []
  },
  {
   "cell_type": "code",
   "execution_count": 3,
   "id": "81e4665d-0bd9-49f1-a1a0-9eee96a76ffc",
   "metadata": {},
   "outputs": [],
   "source": [
    "def load_data(record_id):\n",
    "    with sqlite3.connect(db_name) as conn:\n",
    "        cursor = conn.execute(f\"SELECT * FROM {table_name} WHERE id=?\", (record_id,))\n",
    "        row = cursor.fetchone()\n",
    "        if row:\n",
    "            col_names = [desc[0] for desc in cursor.description]\n",
    "            return [row[col_names.index(key)] if key in col_names else None for key in field_components.keys()]\n",
    "        return [None] * len(field_components)\n",
    "\n",
    "def save_data(record_id, *values):\n",
    "    with sqlite3.connect(db_name) as conn:\n",
    "        \n",
    "        cursor = conn.execute(f\"SELECT 1 FROM {table_name} WHERE id=?\", (record_id,))\n",
    "        if cursor.fetchone():\n",
    "            conn.execute(f\"UPDATE {table_name} SET {', '.join(f'{k}=?' for k in field_components)} WHERE id=?\", (*values, record_id))\n",
    "        else:\n",
    "            conn.execute(f\"INSERT INTO {table_name} (id, {', '.join(field_components)}) VALUES (?, {', '.join(['?'] * len(values))})\", (record_id, *values))\n",
    "        conn.commit()\n",
    "    return \"Saved successfully.\""
   ]
  },
  {
   "cell_type": "code",
   "execution_count": 4,
   "id": "b4466154-52de-40b9-bb09-3f3520c703ef",
   "metadata": {},
   "outputs": [],
   "source": [
    "\n",
    "with gr.Blocks() as demo:\n",
    "    gr.Markdown(\"# Dynamic Form from YAML\")\n",
    "    id_input = gr.Textbox(label=\"Record ID\")\n",
    "    with gr.Row():\n",
    "        id_input_comp = id_input\n",
    "        load_btn = gr.Button(\"Load\")\n",
    "        save_btn = gr.Button(\"Save\")\n",
    "    for tab in config['interface']['tabs']:\n",
    "        with gr.Tab(tab['name']):\n",
    "            for field in tab['fields']:\n",
    "                key = field['name']\n",
    "                label = field.get(\"label\", key)\n",
    "                default = field.get(\"default\", None)\n",
    "                ftype = field['type']\n",
    "                if ftype == \"text\":\n",
    "                    comp = gr.Textbox(label=label, value=default)\n",
    "                elif ftype == \"number\":\n",
    "                    comp = gr.Number(label=label, value=default)\n",
    "                elif ftype == \"checkbox\":\n",
    "                    comp = gr.Checkbox(label=label, value=default)\n",
    "                elif ftype == \"dropdown\":\n",
    "                    comp = gr.Dropdown(label=label, choices=field.get(\"options\", []), value=default)\n",
    "                elif ftype == \"radio\":\n",
    "                    comp = gr.Radio(label=label, choices=field.get(\"options\", []), value=default)\n",
    "                else:\n",
    "                    comp = gr.Textbox(label=label)\n",
    "                field_components[key] = comp                \n",
    "\n",
    "    status_output = gr.Textbox(label=\"Status\")\n",
    "    \n",
    "    load_btn.click(fn=load_data, inputs=[id_input_comp], outputs=list(field_components.values()))\n",
    "    save_btn.click(fn=save_data, inputs=[id_input_comp] + list(field_components.values()), outputs=status_output)"
   ]
  },
  {
   "cell_type": "code",
   "execution_count": 16,
   "id": "652c9b45-b409-49e6-85d6-64f654534ce0",
   "metadata": {},
   "outputs": [
    {
     "data": {
      "text/plain": [
       "{'name': 'name', 'label': 'Name', 'type': 'text'}"
      ]
     },
     "execution_count": 16,
     "metadata": {},
     "output_type": "execute_result"
    }
   ],
   "source": [
    "config['interface']['tabs'][0]['fields'][0]"
   ]
  },
  {
   "cell_type": "code",
   "execution_count": 6,
   "id": "6eff892f-2217-4338-8785-9b072e2f3f1b",
   "metadata": {},
   "outputs": [],
   "source": []
  },
  {
   "cell_type": "code",
   "execution_count": 5,
   "id": "323d0277-e11c-4b65-a673-ed6f0d1a6303",
   "metadata": {},
   "outputs": [
    {
     "name": "stdout",
     "output_type": "stream",
     "text": [
      "* Running on local URL:  http://0.0.0.0:7860\n",
      "* To create a public link, set `share=True` in `launch()`.\n"
     ]
    },
    {
     "data": {
      "text/html": [
       "<div><iframe src=\"http://localhost:7860/\" width=\"100%\" height=\"500\" allow=\"autoplay; camera; microphone; clipboard-read; clipboard-write;\" frameborder=\"0\" allowfullscreen></iframe></div>"
      ],
      "text/plain": [
       "<IPython.core.display.HTML object>"
      ]
     },
     "metadata": {},
     "output_type": "display_data"
    },
    {
     "data": {
      "text/plain": []
     },
     "execution_count": 5,
     "metadata": {},
     "output_type": "execute_result"
    }
   ],
   "source": [
    "\n",
    "demo.launch(server_port=7860)"
   ]
  },
  {
   "cell_type": "code",
   "execution_count": 2,
   "id": "928afa81-4424-43e1-b4ec-91c7ac7a7241",
   "metadata": {},
   "outputs": [
    {
     "name": "stdout",
     "output_type": "stream",
     "text": [
      "app.py\tbika.ipynb  bika2.ipynb  config.yaml  data  requirements.txt\n"
     ]
    }
   ],
   "source": [
    "!ls"
   ]
  }
 ],
 "metadata": {
  "kernelspec": {
   "display_name": "Python 3 (ipykernel)",
   "language": "python",
   "name": "python3"
  },
  "language_info": {
   "codemirror_mode": {
    "name": "ipython",
    "version": 3
   },
   "file_extension": ".py",
   "mimetype": "text/x-python",
   "name": "python",
   "nbconvert_exporter": "python",
   "pygments_lexer": "ipython3",
   "version": "3.11.13"
  }
 },
 "nbformat": 4,
 "nbformat_minor": 5
}
