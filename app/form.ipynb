{
 "cells": [
  {
   "cell_type": "code",
   "execution_count": 1,
   "id": "c186eb98-e822-41df-9eb7-df0c1ca0f0ea",
   "metadata": {},
   "outputs": [
    {
     "name": "stderr",
     "output_type": "stream",
     "text": [
      "/usr/local/lib/python3.11/site-packages/tqdm/auto.py:21: TqdmWarning: IProgress not found. Please update jupyter and ipywidgets. See https://ipywidgets.readthedocs.io/en/stable/user_install.html\n",
      "  from .autonotebook import tqdm as notebook_tqdm\n"
     ]
    }
   ],
   "source": [
    "import sqlite3\n",
    "import gradio as gr\n",
    "import yaml\n",
    "import os\n",
    "\n",
    "# Load configuration\n",
    "with open(\"config.yaml\", \"r\") as f:\n",
    "    config = yaml.safe_load(f)\n",
    "\n",
    "db_name = config[\"database\"][\"name\"]\n",
    "table_name = config[\"database\"][\"table\"]\n",
    "\n",
    "# SQL type mapping\n",
    "def sql_type(field_type):\n",
    "    return {\n",
    "        \"text\": \"TEXT\",\n",
    "        \"number\": \"INTEGER\",\n",
    "        \"checkbox\": \"BOOLEAN\",\n",
    "        \"dropdown\": \"TEXT\",\n",
    "        \"radio\": \"TEXT\",\n",
    "    }.get(field_type, \"TEXT\")\n",
    "\n",
    "# Create table from config\n",
    "def create_table():\n",
    "    fields = []\n",
    "    for tab in config[\"interface\"][\"tabs\"]:\n",
    "        for field in tab[\"fields\"]:\n",
    "            name = field[\"name\"]\n",
    "            ftype = sql_type(field[\"type\"])\n",
    "            fields.append(f\"{name} {ftype}\")\n",
    "    with sqlite3.connect(db_name) as conn:\n",
    "        conn.execute(\n",
    "            f\"CREATE TABLE IF NOT EXISTS {table_name} (id TEXT PRIMARY KEY, {', '.join(fields)})\"\n",
    "        )\n",
    "        conn.commit()\n",
    "\n",
    "# Build Gradio UI\n",
    "def build_ui():\n",
    "    \n",
    "\n",
    "    with gr.Blocks() as demo:\n",
    "        gr.Markdown(\"## YAML-Powered Dynamic Form\")\n",
    "\n",
    "        with gr.Row():\n",
    "            id_input = gr.Textbox(label=\"Record ID\", placeholder=\"Enter ID to save/load\")\n",
    "            load_btn = gr.Button(\"🔍 Load\")\n",
    "            save_btn = gr.Button(\"💾 Save\")\n",
    "\n",
    "        for tab in config[\"interface\"][\"tabs\"]:\n",
    "            with gr.Tab(tab[\"name\"]):\n",
    "                for field in tab[\"fields\"]:\n",
    "                    key = field[\"name\"]\n",
    "                    label = field.get(\"label\", key)\n",
    "                    default = field.get(\"default\", None)\n",
    "                    ftype = field[\"type\"]\n",
    "\n",
    "                    if ftype == \"text\":\n",
    "                        comp = gr.Textbox(label=label, value=default)\n",
    "                    elif ftype == \"number\":\n",
    "                        comp = gr.Number(label=label, value=default)\n",
    "                    elif ftype == \"checkbox\":\n",
    "                        comp = gr.Checkbox(label=label, value=default)\n",
    "                    elif ftype == \"dropdown\":\n",
    "                        comp = gr.Dropdown(label=label, choices=field[\"options\"], value=default)\n",
    "                    elif ftype == \"radio\":\n",
    "                        comp = gr.Radio(label=label, choices=field[\"options\"], value=default)\n",
    "                    else:\n",
    "                        comp = gr.Textbox(label=label)\n",
    "\n",
    "                    field_components[key] = comp\n",
    "\n",
    "        status_box = gr.Textbox(label=\"Status\", interactive=False)\n",
    "\n",
    "        def load_data(record_id):\n",
    "            if not record_id.strip():\n",
    "                return [\"\"] * len(field_components), \"❌ Please enter a Record ID to load.\"\n",
    "            print(record_id)\n",
    "\n",
    "            with sqlite3.connect(db_name) as conn:\n",
    "                cursor = conn.cursor()\n",
    "                cursor.execute(f\"SELECT * FROM {table_name} WHERE id = ?\", (record_id,))\n",
    "                row = cursor.fetchone()\n",
    "\n",
    "                if row:\n",
    "                    col_names = [description[0] for description in cursor.description]\n",
    "                    values = [row[col_names.index(key)] if key in col_names else None for key in field_components]\n",
    "                    return values+[\"✅ Data loaded.\"]\n",
    "                else:\n",
    "                    return [\"\"] * len(field_components)+ [\"⚠️ No record found. Showing defaults.\"]\n",
    "\n",
    "        def save_data(record_id, *values):\n",
    "            if not record_id.strip():\n",
    "                return \"❌ Please enter a Record ID before saving.\"\n",
    "\n",
    "            with sqlite3.connect(db_name) as conn:\n",
    "                cursor = conn.cursor()\n",
    "                cursor.execute(f\"SELECT 1 FROM {table_name} WHERE id = ?\", (record_id,))\n",
    "                if cursor.fetchone():\n",
    "                    update_clause = \", \".join(f\"{k}=?\" for k in field_components)\n",
    "                    cursor.execute(\n",
    "                        f\"UPDATE {table_name} SET {update_clause} WHERE id = ?\",\n",
    "                        (*values, record_id),\n",
    "                    )\n",
    "                else:\n",
    "                    placeholders = \", \".join(\"?\" for _ in field_components)\n",
    "                    columns = \", \".join(field_components.keys())\n",
    "                    cursor.execute(\n",
    "                        f\"INSERT INTO {table_name} (id, {columns}) VALUES (?, {placeholders})\",\n",
    "                        (record_id, *values),\n",
    "                    )\n",
    "                conn.commit()\n",
    "            return \"✅ Data saved successfully.\"\n",
    "\n",
    "        load_btn.click(\n",
    "            fn=load_data,\n",
    "            inputs=[id_input],\n",
    "            outputs=[*field_components.values(), status_box]\n",
    "        )\n",
    "\n",
    "        save_btn.click(\n",
    "            fn=save_data,\n",
    "            inputs=[id_input] + list(field_components.values()),\n",
    "            outputs=status_box\n",
    "        )\n",
    "\n",
    "    return demo"
   ]
  },
  {
   "cell_type": "code",
   "execution_count": 2,
   "id": "b8149cf8-ae28-40de-8cfb-cd2fb82f3520",
   "metadata": {},
   "outputs": [],
   "source": [
    "# Initialize and run\n",
    "field_components = {}\n",
    "create_table()\n",
    "app = build_ui()"
   ]
  },
  {
   "cell_type": "code",
   "execution_count": null,
   "id": "65b743f9-185c-490b-be41-a0c8f43e11ea",
   "metadata": {},
   "outputs": [],
   "source": [
    "a+3"
   ]
  },
  {
   "cell_type": "code",
   "execution_count": 3,
   "id": "63dbbc06-ad0e-491e-af62-0953caf8400f",
   "metadata": {},
   "outputs": [
    {
     "name": "stdout",
     "output_type": "stream",
     "text": [
      "* Running on local URL:  http://0.0.0.0:7860\n",
      "* To create a public link, set `share=True` in `launch()`.\n"
     ]
    },
    {
     "data": {
      "text/html": [
       "<div><iframe src=\"http://localhost:7860/\" width=\"100%\" height=\"500\" allow=\"autoplay; camera; microphone; clipboard-read; clipboard-write;\" frameborder=\"0\" allowfullscreen></iframe></div>"
      ],
      "text/plain": [
       "<IPython.core.display.HTML object>"
      ]
     },
     "metadata": {},
     "output_type": "display_data"
    },
    {
     "data": {
      "text/plain": []
     },
     "execution_count": 3,
     "metadata": {},
     "output_type": "execute_result"
    },
    {
     "name": "stdout",
     "output_type": "stream",
     "text": [
      "1\n",
      "33\n",
      "2\n",
      "1\n"
     ]
    },
    {
     "name": "stderr",
     "output_type": "stream",
     "text": [
      "Traceback (most recent call last):\n",
      "  File \"/usr/local/lib/python3.11/site-packages/gradio/queueing.py\", line 625, in process_events\n",
      "    response = await route_utils.call_process_api(\n",
      "               ^^^^^^^^^^^^^^^^^^^^^^^^^^^^^^^^^^^\n",
      "  File \"/usr/local/lib/python3.11/site-packages/gradio/route_utils.py\", line 322, in call_process_api\n",
      "    output = await app.get_blocks().process_api(\n",
      "             ^^^^^^^^^^^^^^^^^^^^^^^^^^^^^^^^^^^\n",
      "  File \"/usr/local/lib/python3.11/site-packages/gradio/blocks.py\", line 2230, in process_api\n",
      "    data = await self.postprocess_data(block_fn, result[\"prediction\"], state)\n",
      "           ^^^^^^^^^^^^^^^^^^^^^^^^^^^^^^^^^^^^^^^^^^^^^^^^^^^^^^^^^^^^^^^^^^\n",
      "  File \"/usr/local/lib/python3.11/site-packages/gradio/blocks.py\", line 1957, in postprocess_data\n",
      "    self.validate_outputs(block_fn, predictions)  # type: ignore\n",
      "    ^^^^^^^^^^^^^^^^^^^^^^^^^^^^^^^^^^^^^^^^^^^^\n",
      "  File \"/usr/local/lib/python3.11/site-packages/gradio/blocks.py\", line 1912, in validate_outputs\n",
      "    raise ValueError(\n",
      "ValueError: A  function (load_data) didn't return enough output values (needed: 8, returned: 2).\n",
      "    Output components:\n",
      "        [textbox, textbox, textbox, checkbox, textbox, checkbox, textbox, textbox]\n",
      "    Output values returned:\n",
      "        [['', '', '', '', '', '', ''], \"❌ Please enter a Record ID to load.\"]\n",
      "Traceback (most recent call last):\n",
      "  File \"/usr/local/lib/python3.11/site-packages/gradio/queueing.py\", line 625, in process_events\n",
      "    response = await route_utils.call_process_api(\n",
      "               ^^^^^^^^^^^^^^^^^^^^^^^^^^^^^^^^^^^\n",
      "  File \"/usr/local/lib/python3.11/site-packages/gradio/route_utils.py\", line 322, in call_process_api\n",
      "    output = await app.get_blocks().process_api(\n",
      "             ^^^^^^^^^^^^^^^^^^^^^^^^^^^^^^^^^^^\n",
      "  File \"/usr/local/lib/python3.11/site-packages/gradio/blocks.py\", line 2230, in process_api\n",
      "    data = await self.postprocess_data(block_fn, result[\"prediction\"], state)\n",
      "           ^^^^^^^^^^^^^^^^^^^^^^^^^^^^^^^^^^^^^^^^^^^^^^^^^^^^^^^^^^^^^^^^^^\n",
      "  File \"/usr/local/lib/python3.11/site-packages/gradio/blocks.py\", line 1957, in postprocess_data\n",
      "    self.validate_outputs(block_fn, predictions)  # type: ignore\n",
      "    ^^^^^^^^^^^^^^^^^^^^^^^^^^^^^^^^^^^^^^^^^^^^\n",
      "  File \"/usr/local/lib/python3.11/site-packages/gradio/blocks.py\", line 1912, in validate_outputs\n",
      "    raise ValueError(\n",
      "ValueError: A  function (load_data) didn't return enough output values (needed: 8, returned: 2).\n",
      "    Output components:\n",
      "        [textbox, textbox, textbox, checkbox, textbox, checkbox, textbox, textbox]\n",
      "    Output values returned:\n",
      "        [['', '', '', '', '', '', ''], \"❌ Please enter a Record ID to load.\"]\n"
     ]
    },
    {
     "name": "stdout",
     "output_type": "stream",
     "text": [
      "1\n",
      "2\n"
     ]
    },
    {
     "name": "stderr",
     "output_type": "stream",
     "text": [
      "Traceback (most recent call last):\n",
      "  File \"/usr/local/lib/python3.11/site-packages/gradio/queueing.py\", line 625, in process_events\n",
      "    response = await route_utils.call_process_api(\n",
      "               ^^^^^^^^^^^^^^^^^^^^^^^^^^^^^^^^^^^\n",
      "  File \"/usr/local/lib/python3.11/site-packages/gradio/route_utils.py\", line 322, in call_process_api\n",
      "    output = await app.get_blocks().process_api(\n",
      "             ^^^^^^^^^^^^^^^^^^^^^^^^^^^^^^^^^^^\n",
      "  File \"/usr/local/lib/python3.11/site-packages/gradio/blocks.py\", line 2230, in process_api\n",
      "    data = await self.postprocess_data(block_fn, result[\"prediction\"], state)\n",
      "           ^^^^^^^^^^^^^^^^^^^^^^^^^^^^^^^^^^^^^^^^^^^^^^^^^^^^^^^^^^^^^^^^^^\n",
      "  File \"/usr/local/lib/python3.11/site-packages/gradio/blocks.py\", line 1957, in postprocess_data\n",
      "    self.validate_outputs(block_fn, predictions)  # type: ignore\n",
      "    ^^^^^^^^^^^^^^^^^^^^^^^^^^^^^^^^^^^^^^^^^^^^\n",
      "  File \"/usr/local/lib/python3.11/site-packages/gradio/blocks.py\", line 1912, in validate_outputs\n",
      "    raise ValueError(\n",
      "ValueError: A  function (load_data) didn't return enough output values (needed: 8, returned: 2).\n",
      "    Output components:\n",
      "        [textbox, textbox, textbox, checkbox, textbox, checkbox, textbox, textbox]\n",
      "    Output values returned:\n",
      "        [['', '', '', '', '', '', ''], \"❌ Please enter a Record ID to load.\"]\n"
     ]
    },
    {
     "name": "stdout",
     "output_type": "stream",
     "text": [
      "1\n"
     ]
    },
    {
     "name": "stderr",
     "output_type": "stream",
     "text": [
      "WARNING:  Invalid HTTP request received.\n",
      "WARNING:  Invalid HTTP request received.\n",
      "WARNING:  Invalid HTTP request received.\n",
      "WARNING:  Invalid HTTP request received.\n"
     ]
    }
   ],
   "source": [
    "app.launch(server_name=\"0.0.0.0\", server_port=7860)"
   ]
  },
  {
   "cell_type": "code",
   "execution_count": null,
   "id": "bb3bf1dc-4bb8-4772-98f0-23b48311d589",
   "metadata": {},
   "outputs": [],
   "source": []
  },
  {
   "cell_type": "code",
   "execution_count": null,
   "id": "853b72b0-58b0-4415-b422-70dfc6438d44",
   "metadata": {},
   "outputs": [],
   "source": []
  }
 ],
 "metadata": {
  "kernelspec": {
   "display_name": "Python 3 (ipykernel)",
   "language": "python",
   "name": "python3"
  },
  "language_info": {
   "codemirror_mode": {
    "name": "ipython",
    "version": 3
   },
   "file_extension": ".py",
   "mimetype": "text/x-python",
   "name": "python",
   "nbconvert_exporter": "python",
   "pygments_lexer": "ipython3",
   "version": "3.11.13"
  }
 },
 "nbformat": 4,
 "nbformat_minor": 5
}
