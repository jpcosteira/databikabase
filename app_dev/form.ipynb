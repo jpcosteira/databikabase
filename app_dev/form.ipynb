{
 "cells": [
  {
   "cell_type": "code",
   "execution_count": 2,
   "id": "4c23253c-c6d0-4cb1-b408-4d6a139866c3",
   "metadata": {},
   "outputs": [],
   "source": [
    "import gradio as gr\n",
    "import sqlite3\n",
    "import yaml\n",
    "import os\n",
    "from datetime import datetime\n",
    "\n",
    "# Load configuration from YAML\n",
    "with open(\"config.yaml\", \"r\") as f:\n",
    "    config = yaml.safe_load(f)"
   ]
  },
  {
   "cell_type": "code",
   "execution_count": 3,
   "id": "48bc7f55-9eff-4c9c-86bd-0405450eb042",
   "metadata": {},
   "outputs": [],
   "source": [
    "# Database and table info\n",
    "db_name = config[\"database\"][\"name\"]\n",
    "table_name = config[\"database\"][\"table\"]\n",
    "admin_password = config[\"auth\"][\"password\"]\n",
    "\n",
    "# Determine SQL type based on field type\n",
    "def sql_type(field_type):\n",
    "    return {\n",
    "        \"text\": \"TEXT\",\n",
    "        \"number\": \"INTEGER\",\n",
    "        \"checkbox\": \"BOOLEAN\",\n",
    "        \"dropdown\": \"TEXT\",\n",
    "        \"radio\": \"TEXT\",\n",
    "        \"datetime\": \"DATETIME\",\n",
    "    }.get(field_type, \"TEXT\")\n",
    "\n",
    "# Initialize database\n",
    "def init_db():\n",
    "    fields = []\n",
    "    for tab in config[\"interface\"][\"tabs\"]:\n",
    "        for section in tab.get(\"layout\", []):\n",
    "            for field in section.get(\"fields\", []):\n",
    "                fname = field[\"name\"]\n",
    "                ftype = sql_type(field[\"type\"])\n",
    "                fields.append(f\"{fname} {ftype}\")\n",
    "\n",
    "    with sqlite3.connect(db_name) as conn:\n",
    "        cursor = conn.cursor()\n",
    "        cursor.execute(f\"\"\"\n",
    "            CREATE TABLE IF NOT EXISTS {table_name} (\n",
    "                id TEXT PRIMARY KEY,\n",
    "                {', '.join(fields)}\n",
    "            )\n",
    "        \"\"\")\n",
    "        conn.commit()\n",
    "\n",
    "# Build the Gradio UI\n",
    "def build_ui():\n",
    "    field_components = {}\n",
    "\n",
    "    with gr.Blocks() as demo:\n",
    "        gr.Markdown(\"## 🔒 Password-Protected YAML-Powered Form\")\n",
    "\n",
    "        with gr.Row():\n",
    "            id_input = gr.Textbox(label=\"Record ID\", placeholder=\"Enter ID\")\n",
    "            password_input = gr.Textbox(label=\"Password\", type=\"password\", placeholder=\"Enter password\")\n",
    "            load_btn = gr.Button(\"🔍 Load\")\n",
    "            save_btn = gr.Button(\"💾 Save\")\n",
    "\n",
    "        for tab in config[\"interface\"][\"tabs\"]:\n",
    "            with gr.Tab(tab[\"name\"]):\n",
    "                for section in tab.get(\"layout\", []):\n",
    "                    container = gr.Row() if section.get(\"row\") else gr.Column()\n",
    "                    with container:\n",
    "                        for field in section.get(\"fields\", []):\n",
    "                            key = field[\"name\"]\n",
    "                            label = field.get(\"label\", key)\n",
    "                            default = field.get(\"default\", None)\n",
    "                            ftype = field[\"type\"]\n",
    "\n",
    "                            if ftype == \"text\":\n",
    "                                comp = gr.Textbox(label=label, value=default)\n",
    "                            elif ftype == \"number\":\n",
    "                                comp = gr.Number(label=label, value=default)\n",
    "                            elif ftype == \"checkbox\":\n",
    "                                comp = gr.Checkbox(label=label, value=default)\n",
    "                            elif ftype == \"dropdown\":\n",
    "                                comp = gr.Dropdown(label=label, choices=field[\"options\"], value=default)\n",
    "                            elif ftype == \"radio\":\n",
    "                                comp = gr.Radio(label=label, choices=field[\"options\"], value=default)\n",
    "                            elif ftype == \"datetime\":\n",
    "                                comp = gr.Textbox(label=label + \" (YYYY-MM-DDTHH:MM)\", value=default, placeholder=\"2025-06-19T10:00\")\n",
    "                            else:\n",
    "                                comp = gr.Textbox(label=label)\n",
    "\n",
    "                            field_components[key] = comp\n",
    "\n",
    "        status_box = gr.Textbox(label=\"Status\", interactive=False)\n",
    "\n",
    "        def load_data(record_id, pwd):\n",
    "            if not record_id.strip():\n",
    "                return [\"\"] * len(field_components), \"❌ Please enter a Record ID.\"\n",
    "            if pwd != admin_password:\n",
    "                return [\"\"] * len(field_components), \"🔐 Incorrect password.\"\n",
    "\n",
    "            with sqlite3.connect(db_name) as conn:\n",
    "                cursor = conn.cursor()\n",
    "                cursor.execute(f\"SELECT * FROM {table_name} WHERE id = ?\", (record_id,))\n",
    "                row = cursor.fetchone()\n",
    "                if row:\n",
    "                    col_names = [desc[0] for desc in cursor.description]\n",
    "                    values = []\n",
    "                    for key in field_components:\n",
    "                        field = next((f for t in config[\"interface\"][\"tabs\"] for s in t[\"layout\"] for f in s[\"fields\"] if f[\"name\"] == key), None)\n",
    "                        val = row[col_names.index(key)] if key in col_names else None\n",
    "                        if field and field.get(\"type\") == \"datetime\" and val:\n",
    "                            try:\n",
    "                                val = datetime.fromisoformat(val).isoformat(timespec='minutes').replace(\" \", \"T\")\n",
    "                            except:\n",
    "                                val = \"\"\n",
    "                        values.append(val)\n",
    "                    return values, \"✅ Data loaded.\"\n",
    "                else:\n",
    "                    return [\"\"] * len(field_components), \"⚠️ No record found.\"\n",
    "\n",
    "        def save_data(record_id, pwd, *values):\n",
    "            if not record_id.strip():\n",
    "                return \"❌ Please enter a Record ID.\"\n",
    "            if pwd != admin_password:\n",
    "                return \"🔐 Incorrect password.\"\n",
    "\n",
    "            sanitized_values = []\n",
    "            for key, val in zip(field_components, values):\n",
    "                field = next((f for t in config[\"interface\"][\"tabs\"] for s in t[\"layout\"] for f in s[\"fields\"] if f[\"name\"] == key), None)\n",
    "                if field and field.get(\"type\") == \"datetime\" and val:\n",
    "                    try:\n",
    "                        val = datetime.fromisoformat(val).isoformat(sep=\" \")\n",
    "                    except ValueError:\n",
    "                        return f\"❌ Invalid datetime format for '{key}'. Use YYYY-MM-DDTHH:MM\"\n",
    "                sanitized_values.append(val)\n",
    "\n",
    "            with sqlite3.connect(db_name) as conn:\n",
    "                cursor = conn.cursor()\n",
    "                cursor.execute(f\"SELECT 1 FROM {table_name} WHERE id = ?\", (record_id,))\n",
    "                if cursor.fetchone():\n",
    "                    clause = \", \".join(f\"{k}=?\" for k in field_components)\n",
    "                    cursor.execute(f\"UPDATE {table_name} SET {clause} WHERE id = ?\", (*sanitized_values, record_id))\n",
    "                else:\n",
    "                    placeholders = \", \".join(\"?\" for _ in field_components)\n",
    "                    cursor.execute(f\"INSERT INTO {table_name} (id, {', '.join(field_components.keys())}) VALUES (?, {placeholders})\", (record_id, *sanitized_values))\n",
    "                conn.commit()\n",
    "\n",
    "            return \"✅ Data saved successfully.\"\n",
    "\n",
    "        load_btn.click(fn=load_data, inputs=[id_input, password_input], outputs=[*field_components.values(), status_box])\n",
    "        save_btn.click(fn=save_data, inputs=[id_input, password_input] + list(field_components.values()), outputs=status_box)\n",
    "\n",
    "    return demo"
   ]
  },
  {
   "cell_type": "code",
   "execution_count": 4,
   "id": "5bc90657-3e07-4005-8e91-b44f103db0a9",
   "metadata": {},
   "outputs": [],
   "source": [
    "# Initialize database and launch app\n",
    "init_db()\n",
    "demo = build_ui()"
   ]
  },
  {
   "cell_type": "code",
   "execution_count": null,
   "id": "a592200a-9796-4f00-b12f-3f759c366364",
   "metadata": {},
   "outputs": [],
   "source": []
  },
  {
   "cell_type": "code",
   "execution_count": 5,
   "id": "f52161c3-964f-4081-9952-6aefa1ac586f",
   "metadata": {},
   "outputs": [
    {
     "name": "stdout",
     "output_type": "stream",
     "text": [
      "* Running on local URL:  http://0.0.0.0:7860\n",
      "* To create a public link, set `share=True` in `launch()`.\n"
     ]
    },
    {
     "data": {
      "text/html": [
       "<div><iframe src=\"http://localhost:7860/\" width=\"100%\" height=\"500\" allow=\"autoplay; camera; microphone; clipboard-read; clipboard-write;\" frameborder=\"0\" allowfullscreen></iframe></div>"
      ],
      "text/plain": [
       "<IPython.core.display.HTML object>"
      ]
     },
     "metadata": {},
     "output_type": "display_data"
    },
    {
     "data": {
      "text/plain": []
     },
     "execution_count": 5,
     "metadata": {},
     "output_type": "execute_result"
    }
   ],
   "source": [
    "demo.launch()"
   ]
  }
 ],
 "metadata": {
  "kernelspec": {
   "display_name": "Python 3 (ipykernel)",
   "language": "python",
   "name": "python3"
  },
  "language_info": {
   "codemirror_mode": {
    "name": "ipython",
    "version": 3
   },
   "file_extension": ".py",
   "mimetype": "text/x-python",
   "name": "python",
   "nbconvert_exporter": "python",
   "pygments_lexer": "ipython3",
   "version": "3.11.13"
  }
 },
 "nbformat": 4,
 "nbformat_minor": 5
}
